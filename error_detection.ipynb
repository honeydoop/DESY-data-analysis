{
 "cells": [
  {
   "cell_type": "markdown",
   "id": "c23d66ab",
   "metadata": {},
   "source": [
    "## Error Detection"
   ]
  },
  {
   "cell_type": "markdown",
   "id": "080cabbf",
   "metadata": {},
   "source": [
    "### Importing"
   ]
  },
  {
   "cell_type": "code",
   "execution_count": 106,
   "id": "b8587dd2",
   "metadata": {},
   "outputs": [],
   "source": [
    "import polars as pl\n",
    "import pandas as pd\n",
    "import matplotlib.pyplot as plt\n",
    "import plotly.express as px\n",
    "import numpy as np\n",
    "\n",
    "plt.style.use(\"fivethirtyeight\")"
   ]
  },
  {
   "cell_type": "markdown",
   "id": "5360c8e1",
   "metadata": {},
   "source": [
    "### Data File"
   ]
  },
  {
   "cell_type": "code",
   "execution_count": 107,
   "id": "182b1d5b",
   "metadata": {},
   "outputs": [
    {
     "name": "stdout",
     "output_type": "stream",
     "text": [
      "shape: (15_527, 7)\n",
      "┌────────────┬─────────────┬────────────┬────────────┬────────────┬──────────────────┬─────────┐\n",
      "│ trigger_id ┆ trigger_clk ┆ sensor_1-2 ┆ sensor_3-4 ┆ sensor_5-6 ┆ internal_trigger ┆ veto_in │\n",
      "│ ---        ┆ ---         ┆ ---        ┆ ---        ┆ ---        ┆ ---              ┆ ---     │\n",
      "│ u16        ┆ u64         ┆ u8         ┆ u8         ┆ u8         ┆ bool             ┆ bool    │\n",
      "╞════════════╪═════════════╪════════════╪════════════╪════════════╪══════════════════╪═════════╡\n",
      "│ 0          ┆ 1882168984  ┆ 255        ┆ 255        ┆ 0          ┆ false            ┆ false   │\n",
      "│ 0          ┆ 1882176984  ┆ 255        ┆ 255        ┆ 0          ┆ false            ┆ false   │\n",
      "│ 0          ┆ 1072996353  ┆ 255        ┆ 255        ┆ 0          ┆ false            ┆ false   │\n",
      "│ 0          ┆ 1073038198  ┆ 255        ┆ 255        ┆ 0          ┆ false            ┆ false   │\n",
      "│ 0          ┆ 1073168771  ┆ 255        ┆ 255        ┆ 0          ┆ false            ┆ false   │\n",
      "│ …          ┆ …           ┆ …          ┆ …          ┆ …          ┆ …                ┆ …       │\n",
      "│ 0          ┆ 30369387948 ┆ 255        ┆ 255        ┆ 0          ┆ false            ┆ false   │\n",
      "│ 0          ┆ 30369461322 ┆ 255        ┆ 255        ┆ 0          ┆ false            ┆ false   │\n",
      "│ 0          ┆ 30375291132 ┆ 255        ┆ 255        ┆ 0          ┆ false            ┆ false   │\n",
      "│ 0          ┆ 30375698714 ┆ 255        ┆ 255        ┆ 32         ┆ false            ┆ true    │\n",
      "│ 0          ┆ 30375784591 ┆ 255        ┆ 255        ┆ 0          ┆ false            ┆ false   │\n",
      "└────────────┴─────────────┴────────────┴────────────┴────────────┴──────────────────┴─────────┘\n"
     ]
    }
   ],
   "source": [
    "df = pl.read_csv(\n",
    "    \"sept_17_21h44_first.csv\",\n",
    "    schema_overrides={\n",
    "        \"trigger_id\": pl.UInt16,\n",
    "        \"trigger_clk\": pl.UInt64,\n",
    "        \"integer_data\": pl.UInt32,\n",
    "        \"idk\": pl.UInt32,\n",
    "        \"sensor_1-2\": pl.Utf8,\n",
    "        \"sensor_3-4\": pl.Utf8,\n",
    "        \"sensor_5-6\": pl.Utf8,\n",
    "        \"internal_trigger\": pl.Boolean,\n",
    "        \"veto_in\": pl.Boolean\n",
    "    }\n",
    ")\n",
    "\n",
    "binary_cols = [\"sensor_1-2\", \"sensor_3-4\", \"sensor_5-6\"]\n",
    "\n",
    "df = df.with_columns([\n",
    "    pl.col(col)\n",
    "    .map_elements(lambda b: int(b, 2) if b is not None else None, return_dtype=pl.UInt8)\n",
    "    .alias(col)\n",
    "    for col in binary_cols\n",
    "])\n",
    "\n",
    "df = df.drop(\"integer_data\").drop(\"idk\")\n",
    "print(df)"
   ]
  },
  {
   "cell_type": "markdown",
   "id": "ae906df8",
   "metadata": {},
   "source": [
    "### Time Conversion"
   ]
  },
  {
   "cell_type": "code",
   "execution_count": 108,
   "id": "bf266aa3",
   "metadata": {},
   "outputs": [],
   "source": [
    "df = df.with_columns(\n",
    "    (pl.col(\"trigger_clk\") / 40000000).alias(\"trigger_clk\")\n",
    ")"
   ]
  },
  {
   "cell_type": "markdown",
   "id": "9b574bbb",
   "metadata": {},
   "source": [
    "#### Printing DataFrame"
   ]
  },
  {
   "cell_type": "code",
   "execution_count": 109,
   "id": "c23a7332",
   "metadata": {},
   "outputs": [
    {
     "name": "stdout",
     "output_type": "stream",
     "text": [
      "shape: (15_527, 7)\n",
      "┌────────────┬─────────────┬────────────┬────────────┬────────────┬──────────────────┬─────────┐\n",
      "│ trigger_id ┆ trigger_clk ┆ sensor_1-2 ┆ sensor_3-4 ┆ sensor_5-6 ┆ internal_trigger ┆ veto_in │\n",
      "│ ---        ┆ ---         ┆ ---        ┆ ---        ┆ ---        ┆ ---              ┆ ---     │\n",
      "│ u16        ┆ f64         ┆ u8         ┆ u8         ┆ u8         ┆ bool             ┆ bool    │\n",
      "╞════════════╪═════════════╪════════════╪════════════╪════════════╪══════════════════╪═════════╡\n",
      "│ 0          ┆ 47.054225   ┆ 255        ┆ 255        ┆ 0          ┆ false            ┆ false   │\n",
      "│ 0          ┆ 47.054425   ┆ 255        ┆ 255        ┆ 0          ┆ false            ┆ false   │\n",
      "│ 0          ┆ 26.824909   ┆ 255        ┆ 255        ┆ 0          ┆ false            ┆ false   │\n",
      "│ 0          ┆ 26.825955   ┆ 255        ┆ 255        ┆ 0          ┆ false            ┆ false   │\n",
      "│ 0          ┆ 26.829219   ┆ 255        ┆ 255        ┆ 0          ┆ false            ┆ false   │\n",
      "│ …          ┆ …           ┆ …          ┆ …          ┆ …          ┆ …                ┆ …       │\n",
      "│ 0          ┆ 759.234699  ┆ 255        ┆ 255        ┆ 0          ┆ false            ┆ false   │\n",
      "│ 0          ┆ 759.236533  ┆ 255        ┆ 255        ┆ 0          ┆ false            ┆ false   │\n",
      "│ 0          ┆ 759.382278  ┆ 255        ┆ 255        ┆ 0          ┆ false            ┆ false   │\n",
      "│ 0          ┆ 759.392468  ┆ 255        ┆ 255        ┆ 32         ┆ false            ┆ true    │\n",
      "│ 0          ┆ 759.394615  ┆ 255        ┆ 255        ┆ 0          ┆ false            ┆ false   │\n",
      "└────────────┴─────────────┴────────────┴────────────┴────────────┴──────────────────┴─────────┘\n"
     ]
    }
   ],
   "source": [
    "print(df)"
   ]
  },
  {
   "cell_type": "markdown",
   "id": "10a889a0",
   "metadata": {},
   "source": [
    "### Trigger Data Errors"
   ]
  },
  {
   "cell_type": "markdown",
   "id": "8c6f3a1b",
   "metadata": {},
   "source": [
    "#### Sensor 1-2"
   ]
  },
  {
   "cell_type": "code",
   "execution_count": 110,
   "id": "33d677fc",
   "metadata": {},
   "outputs": [
    {
     "ename": "ValueError",
     "evalue": "invalid literal for int() with base 2: ''",
     "output_type": "error",
     "traceback": [
      "\u001b[1;31m---------------------------------------------------------------------------\u001b[0m",
      "\u001b[1;31mValueError\u001b[0m                                Traceback (most recent call last)",
      "Cell \u001b[1;32mIn[110], line 12\u001b[0m\n\u001b[0;32m      9\u001b[0m     start \u001b[38;5;241m=\u001b[39m \u001b[38;5;241m8\u001b[39m \u001b[38;5;241m+\u001b[39m i \u001b[38;5;241m*\u001b[39m \u001b[38;5;241m2\u001b[39m\n\u001b[0;32m     10\u001b[0m     end \u001b[38;5;241m=\u001b[39m start \u001b[38;5;241m+\u001b[39m \u001b[38;5;241m2\u001b[39m\n\u001b[0;32m     11\u001b[0m     td_df \u001b[38;5;241m=\u001b[39m td_df\u001b[38;5;241m.\u001b[39mwith_columns(\n\u001b[1;32m---> 12\u001b[0m         \u001b[43mtd_df\u001b[49m\u001b[43m[\u001b[49m\u001b[38;5;124;43m\"\u001b[39;49m\u001b[38;5;124;43mtrigger_data_binary\u001b[39;49m\u001b[38;5;124;43m\"\u001b[39;49m\u001b[43m]\u001b[49m\u001b[38;5;241;43m.\u001b[39;49m\u001b[43mstr\u001b[49m\u001b[38;5;241;43m.\u001b[39;49m\u001b[43mslice\u001b[49m\u001b[43m(\u001b[49m\u001b[43mstart\u001b[49m\u001b[43m,\u001b[49m\u001b[43m \u001b[49m\u001b[38;5;241;43m2\u001b[39;49m\u001b[43m)\u001b[49m\u001b[38;5;241;43m.\u001b[39;49m\u001b[43mmap_elements\u001b[49m\u001b[43m(\u001b[49m\n\u001b[0;32m     13\u001b[0m \u001b[43m            \u001b[49m\u001b[38;5;28;43;01mlambda\u001b[39;49;00m\u001b[43m \u001b[49m\u001b[43mx\u001b[49m\u001b[43m:\u001b[49m\u001b[43m \u001b[49m\u001b[38;5;28;43mint\u001b[39;49m\u001b[43m(\u001b[49m\u001b[43mx\u001b[49m\u001b[43m,\u001b[49m\u001b[43m \u001b[49m\u001b[38;5;241;43m2\u001b[39;49m\u001b[43m)\u001b[49m\u001b[43m,\u001b[49m\n\u001b[0;32m     14\u001b[0m \u001b[43m            \u001b[49m\u001b[43mreturn_dtype\u001b[49m\u001b[38;5;241;43m=\u001b[39;49m\u001b[43mpl\u001b[49m\u001b[38;5;241;43m.\u001b[39;49m\u001b[43mUInt8\u001b[49m\n\u001b[0;32m     15\u001b[0m \u001b[43m        \u001b[49m\u001b[43m)\u001b[49m\u001b[38;5;241m.\u001b[39malias(\u001b[38;5;124mf\u001b[39m\u001b[38;5;124m\"\u001b[39m\u001b[38;5;124mchunk_\u001b[39m\u001b[38;5;132;01m{\u001b[39;00mi\u001b[38;5;132;01m}\u001b[39;00m\u001b[38;5;124m\"\u001b[39m)\n\u001b[0;32m     16\u001b[0m     )\n\u001b[0;32m     18\u001b[0m td_df \u001b[38;5;241m=\u001b[39m td_df\u001b[38;5;241m.\u001b[39mfilter(\n\u001b[0;32m     19\u001b[0m     pl\u001b[38;5;241m.\u001b[39mstruct(td_df\u001b[38;5;241m.\u001b[39mcolumns)\u001b[38;5;241m.\u001b[39mmap_elements(\u001b[38;5;28;01mlambda\u001b[39;00m row: \u001b[38;5;241m0\u001b[39m \u001b[38;5;129;01mnot\u001b[39;00m \u001b[38;5;129;01min\u001b[39;00m row \u001b[38;5;129;01mand\u001b[39;00m \u001b[38;5;241m3\u001b[39m \u001b[38;5;129;01mnot\u001b[39;00m \u001b[38;5;129;01min\u001b[39;00m row)\n\u001b[0;32m     20\u001b[0m )\n\u001b[0;32m     22\u001b[0m td_df \u001b[38;5;241m=\u001b[39m td_df\u001b[38;5;241m.\u001b[39mdrop(\u001b[38;5;124m\"\u001b[39m\u001b[38;5;124mtrigger_data_binary\u001b[39m\u001b[38;5;124m\"\u001b[39m)\u001b[38;5;241m.\u001b[39mdrop(\u001b[38;5;124m\"\u001b[39m\u001b[38;5;124msensor_1-2\u001b[39m\u001b[38;5;124m\"\u001b[39m)\n",
      "File \u001b[1;32m~\\AppData\\Local\\Packages\\PythonSoftwareFoundation.Python.3.11_qbz5n2kfra8p0\\LocalCache\\local-packages\\Python311\\site-packages\\polars\\series\\series.py:5811\u001b[0m, in \u001b[0;36mSeries.map_elements\u001b[1;34m(self, function, return_dtype, skip_nulls)\u001b[0m\n\u001b[0;32m   5807\u001b[0m     pl_return_dtype \u001b[38;5;241m=\u001b[39m parse_into_dtype(return_dtype)\n\u001b[0;32m   5809\u001b[0m warn_on_inefficient_map(function, columns\u001b[38;5;241m=\u001b[39m[\u001b[38;5;28mself\u001b[39m\u001b[38;5;241m.\u001b[39mname], map_target\u001b[38;5;241m=\u001b[39m\u001b[38;5;124m\"\u001b[39m\u001b[38;5;124mseries\u001b[39m\u001b[38;5;124m\"\u001b[39m)\n\u001b[0;32m   5810\u001b[0m \u001b[38;5;28;01mreturn\u001b[39;00m \u001b[38;5;28mself\u001b[39m\u001b[38;5;241m.\u001b[39m_from_pyseries(\n\u001b[1;32m-> 5811\u001b[0m     \u001b[38;5;28;43mself\u001b[39;49m\u001b[38;5;241;43m.\u001b[39;49m\u001b[43m_s\u001b[49m\u001b[38;5;241;43m.\u001b[39;49m\u001b[43mmap_elements\u001b[49m\u001b[43m(\u001b[49m\n\u001b[0;32m   5812\u001b[0m \u001b[43m        \u001b[49m\u001b[43mfunction\u001b[49m\u001b[43m,\u001b[49m\u001b[43m \u001b[49m\u001b[43mreturn_dtype\u001b[49m\u001b[38;5;241;43m=\u001b[39;49m\u001b[43mpl_return_dtype\u001b[49m\u001b[43m,\u001b[49m\u001b[43m \u001b[49m\u001b[43mskip_nulls\u001b[49m\u001b[38;5;241;43m=\u001b[39;49m\u001b[43mskip_nulls\u001b[49m\n\u001b[0;32m   5813\u001b[0m \u001b[43m    \u001b[49m\u001b[43m)\u001b[49m\n\u001b[0;32m   5814\u001b[0m )\n",
      "Cell \u001b[1;32mIn[110], line 13\u001b[0m, in \u001b[0;36m<lambda>\u001b[1;34m(x)\u001b[0m\n\u001b[0;32m      9\u001b[0m     start \u001b[38;5;241m=\u001b[39m \u001b[38;5;241m8\u001b[39m \u001b[38;5;241m+\u001b[39m i \u001b[38;5;241m*\u001b[39m \u001b[38;5;241m2\u001b[39m\n\u001b[0;32m     10\u001b[0m     end \u001b[38;5;241m=\u001b[39m start \u001b[38;5;241m+\u001b[39m \u001b[38;5;241m2\u001b[39m\n\u001b[0;32m     11\u001b[0m     td_df \u001b[38;5;241m=\u001b[39m td_df\u001b[38;5;241m.\u001b[39mwith_columns(\n\u001b[0;32m     12\u001b[0m         td_df[\u001b[38;5;124m\"\u001b[39m\u001b[38;5;124mtrigger_data_binary\u001b[39m\u001b[38;5;124m\"\u001b[39m]\u001b[38;5;241m.\u001b[39mstr\u001b[38;5;241m.\u001b[39mslice(start, \u001b[38;5;241m2\u001b[39m)\u001b[38;5;241m.\u001b[39mmap_elements(\n\u001b[1;32m---> 13\u001b[0m             \u001b[38;5;28;01mlambda\u001b[39;00m x: \u001b[38;5;28;43mint\u001b[39;49m\u001b[43m(\u001b[49m\u001b[43mx\u001b[49m\u001b[43m,\u001b[49m\u001b[43m \u001b[49m\u001b[38;5;241;43m2\u001b[39;49m\u001b[43m)\u001b[49m,\n\u001b[0;32m     14\u001b[0m             return_dtype\u001b[38;5;241m=\u001b[39mpl\u001b[38;5;241m.\u001b[39mUInt8\n\u001b[0;32m     15\u001b[0m         )\u001b[38;5;241m.\u001b[39malias(\u001b[38;5;124mf\u001b[39m\u001b[38;5;124m\"\u001b[39m\u001b[38;5;124mchunk_\u001b[39m\u001b[38;5;132;01m{\u001b[39;00mi\u001b[38;5;132;01m}\u001b[39;00m\u001b[38;5;124m\"\u001b[39m)\n\u001b[0;32m     16\u001b[0m     )\n\u001b[0;32m     18\u001b[0m td_df \u001b[38;5;241m=\u001b[39m td_df\u001b[38;5;241m.\u001b[39mfilter(\n\u001b[0;32m     19\u001b[0m     pl\u001b[38;5;241m.\u001b[39mstruct(td_df\u001b[38;5;241m.\u001b[39mcolumns)\u001b[38;5;241m.\u001b[39mmap_elements(\u001b[38;5;28;01mlambda\u001b[39;00m row: \u001b[38;5;241m0\u001b[39m \u001b[38;5;129;01mnot\u001b[39;00m \u001b[38;5;129;01min\u001b[39;00m row \u001b[38;5;129;01mand\u001b[39;00m \u001b[38;5;241m3\u001b[39m \u001b[38;5;129;01mnot\u001b[39;00m \u001b[38;5;129;01min\u001b[39;00m row)\n\u001b[0;32m     20\u001b[0m )\n\u001b[0;32m     22\u001b[0m td_df \u001b[38;5;241m=\u001b[39m td_df\u001b[38;5;241m.\u001b[39mdrop(\u001b[38;5;124m\"\u001b[39m\u001b[38;5;124mtrigger_data_binary\u001b[39m\u001b[38;5;124m\"\u001b[39m)\u001b[38;5;241m.\u001b[39mdrop(\u001b[38;5;124m\"\u001b[39m\u001b[38;5;124msensor_1-2\u001b[39m\u001b[38;5;124m\"\u001b[39m)\n",
      "\u001b[1;31mValueError\u001b[0m: invalid literal for int() with base 2: ''"
     ]
    }
   ],
   "source": [
    "td_df = df.with_columns(\n",
    "    pl.col(\"sensor_1-2\").cast(pl.UInt32).map_elements(\n",
    "        lambda x: format(x, '08b'),\n",
    "        return_dtype=pl.String\n",
    "    ).alias(\"trigger_data_binary\")\n",
    ")\n",
    "\n",
    "for i in range(4):\n",
    "    start = 8 + i * 2\n",
    "    end = start + 2\n",
    "    td_df = td_df.with_columns(\n",
    "        td_df[\"trigger_data_binary\"].str.slice(start, 2).map_elements(\n",
    "            lambda x: int(x, 2),\n",
    "            return_dtype=pl.UInt8\n",
    "        ).alias(f\"chunk_{i}\")\n",
    "    )\n",
    "\n",
    "td_df = td_df.filter(\n",
    "    pl.struct(td_df.columns).map_elements(lambda row: 0 not in row and 3 not in row)\n",
    ")\n",
    "    \n",
    "td_df = td_df.drop(\"trigger_data_binary\").drop(\"sensor_1-2\")\n",
    "\n",
    "msb_df = td_df.select(\n",
    "    [f\"chunk_{i}\" for i in range(6)]\n",
    ")\n",
    "\n",
    "lsb_df = td_df.select(\n",
    "    [f\"chunk_{i}\" for i in range(6, 12)]\n",
    ")"
   ]
  },
  {
   "cell_type": "markdown",
   "id": "a3a85931",
   "metadata": {},
   "source": [
    "#### Sensor 3-4"
   ]
  },
  {
   "cell_type": "code",
   "execution_count": null,
   "id": "7867766f",
   "metadata": {},
   "outputs": [],
   "source": []
  },
  {
   "cell_type": "markdown",
   "id": "bd1eff2a",
   "metadata": {},
   "source": [
    "#### Sensor 5-6"
   ]
  },
  {
   "cell_type": "code",
   "execution_count": null,
   "id": "15678d31",
   "metadata": {},
   "outputs": [],
   "source": []
  },
  {
   "cell_type": "markdown",
   "id": "7d895dcc",
   "metadata": {},
   "source": [
    "#### Printing DataFrames"
   ]
  },
  {
   "cell_type": "code",
   "execution_count": null,
   "id": "e823decd",
   "metadata": {},
   "outputs": [],
   "source": [
    "print(msb_df)"
   ]
  },
  {
   "cell_type": "code",
   "execution_count": null,
   "id": "ef937d1d",
   "metadata": {},
   "outputs": [],
   "source": [
    "print(lsb_df)"
   ]
  },
  {
   "cell_type": "markdown",
   "id": "0f7cd6eb",
   "metadata": {},
   "source": [
    "### Veto In Errors"
   ]
  },
  {
   "cell_type": "code",
   "execution_count": null,
   "id": "5e8b4406",
   "metadata": {},
   "outputs": [],
   "source": [
    "vi_df = df.filter(pl.col(\"veto_in\") == True)"
   ]
  },
  {
   "cell_type": "markdown",
   "id": "396e0a1d",
   "metadata": {},
   "source": [
    "#### Printing DataFrames"
   ]
  },
  {
   "cell_type": "code",
   "execution_count": null,
   "id": "d1a41864",
   "metadata": {},
   "outputs": [],
   "source": [
    "print(vi_df)"
   ]
  },
  {
   "cell_type": "markdown",
   "id": "92c2150b",
   "metadata": {},
   "source": [
    "### Internal Trigger Errors"
   ]
  },
  {
   "cell_type": "code",
   "execution_count": null,
   "id": "9c8ac21e",
   "metadata": {},
   "outputs": [],
   "source": [
    "it_df = df.filter(pl.col(\"internal_trigger\") == True)"
   ]
  },
  {
   "cell_type": "markdown",
   "id": "24cef2ee",
   "metadata": {},
   "source": [
    "#### Printing DataFrames"
   ]
  },
  {
   "cell_type": "code",
   "execution_count": null,
   "id": "e4608ee4",
   "metadata": {},
   "outputs": [],
   "source": [
    "print(it_df)"
   ]
  },
  {
   "cell_type": "markdown",
   "id": "36f3d337",
   "metadata": {},
   "source": [
    "## Plotting"
   ]
  },
  {
   "cell_type": "code",
   "execution_count": null,
   "id": "992e7362",
   "metadata": {},
   "outputs": [],
   "source": [
    "'''\n",
    "-x = clk, y = faulty ids (tells us if there is an interval which issues happen)\n",
    "-heat map (graph that changes color when get 0 or 2)\n",
    "-3d gaussian distribution x = , y = , z = (tells us)\n",
    "'''"
   ]
  },
  {
   "cell_type": "markdown",
   "id": "2d2f1897",
   "metadata": {},
   "source": [
    "### Faulty Rods at Intervals"
   ]
  },
  {
   "cell_type": "code",
   "execution_count": null,
   "id": "6753ec5e",
   "metadata": {},
   "outputs": [],
   "source": []
  },
  {
   "cell_type": "markdown",
   "id": "43ec3e7f",
   "metadata": {},
   "source": [
    "### Heatmap"
   ]
  },
  {
   "cell_type": "code",
   "execution_count": null,
   "id": "7a28ed2c",
   "metadata": {},
   "outputs": [],
   "source": [
    "hm_df = td_df.select([f\"chunk_{i}\" for i in range(12)])\n",
    "#print(hm_df)\n",
    "#print(hm_df.to_numy())\n",
    "\n",
    "channel = [\"chunk_1\", \"chunk_2\", \"chunk_3\", \"chunk_4\", \"chunk_5\", \"chunk_6\", \"chunk_7\",\n",
    "           \"chunk_8\", \"chunk_9\", \"chunk_10\", \"chunk_11\"]\n",
    "\n",
    "\"\"\" time = vi_df[\"trigger_clk\"]\n",
    "data = [channel, time, hm_df]\n",
    "\n",
    "fig = px.imshow(hm_df,\n",
    "                labels=dict(x=\"Channels\", y=\"Time?? (s)\", color=\"Activtion Type\"),\n",
    "                x=[\"0/1\",\"2/3\", \"4/5\", \"6/7\", \"8/9\",\"10/11\", \"12/13\", \"14/15\",\n",
    "            \"16/17\", \"18/19\", \"20/21\", \"22/23\"]\n",
    "               ) \"\"\"\n",
    "\n",
    "# limits to 10000 data points because won't render with all\n",
    "fig = px.imshow(hm_df.to_numpy()[:10000],aspect='auto', labels=dict(x=\"Channels\",\n",
    "        y=\"Time (s)\", title=\"SiPM Activation Type per Seconds\", color=\"Activation Type\"),\n",
    "                x=[\"0/1\",\"2/3\", \"4/5\", \"6/7\", \"8/9\",\"10/11\", \"12/13\", \"14/15\",\n",
    "            \"16/17\", \"18/19\", \"20/21\", \"22/23\"], color_continuous_scale=\"twilight\") #or hsv (for fun)\n",
    "\n",
    "fig.update_xaxes(side=\"top\")\n",
    "\n",
    "fig.show()"
   ]
  },
  {
   "cell_type": "markdown",
   "id": "ed24797c",
   "metadata": {},
   "source": [
    "### Gaussian Distribution"
   ]
  },
  {
   "cell_type": "code",
   "execution_count": null,
   "id": "1d0eca4d",
   "metadata": {},
   "outputs": [],
   "source": [
    "## SEE EVAN'S CODE ##"
   ]
  },
  {
   "cell_type": "markdown",
   "id": "090e0bd9",
   "metadata": {},
   "source": [
    "### Bar Graph"
   ]
  },
  {
   "cell_type": "code",
   "execution_count": null,
   "id": "90397e79",
   "metadata": {},
   "outputs": [],
   "source": [
    "hm_df = td_df.select([f\"chunk_{i}\" for i in range(12)])\n",
    "#print(hm_df)\n",
    "\n",
    "#zero = []\n",
    "#for col in hm_df:\n",
    "#    for row in col:\n",
    "#        if row == 0:\n",
    "#            zero.append(col)\n",
    "#        else:\n",
    "#            continue\n",
    "#\n",
    "#zero_value = len(zero)\n",
    "##\n",
    "#one = []\n",
    "#for col in hm_df:\n",
    "#    for row in col:\n",
    "#        if row == 1:\n",
    "#            one.append(col)\n",
    "#        else:\n",
    "#            continue\n",
    "#\n",
    "#one_value = len(one)\n",
    "##\n",
    "#two = []\n",
    "#for col in hm_df:\n",
    "#    for row in col:\n",
    "#        if row == 2:\n",
    "#            one.append(col)\n",
    "#        else:\n",
    "#            continue\n",
    "#\n",
    "#two_value = len(two)\n",
    "##\n",
    "#three = []\n",
    "#for col in hm_df:\n",
    "#    for row in col:\n",
    "#        if row == 3:\n",
    "#            one.append(col)\n",
    "#        else:\n",
    "#            continue\n",
    "#\n",
    "#three_value = len(three)\n",
    "\n",
    "\n",
    "value_counts = hm_df.unpivot().get_column(\"value\").value_counts().to_numpy()\n",
    "\n",
    "#value_counts = value_counts.to_numpy()\n",
    "#print(array)\n",
    "\n",
    "t0x, t0y = np.where(value_counts==0)\n",
    "t1x, t1y = np.where(value_counts==1)\n",
    "t2x, t2y = np.where(value_counts==2)\n",
    "t3x, t3y = np.where(value_counts==3)\n",
    "#print(f'zero is {array[t0x, t0y+1]}')\n",
    "\n",
    "#c = value_counts.transpose()\n",
    "#print(14, c)\n",
    "#\n",
    "##print(zero_value, one_value, two_value, three_value)\n",
    "#print(value_counts)\n",
    "#print(0, value_counts.row(1), 1, value_counts.row(3), 2, value_counts.row(2), 3, value_counts.row(0),)\n",
    "#\n",
    "#zero = value_counts.filter(pl.col('value')=='0')\n",
    "#print(f'zero is {zero}')\n",
    "\n",
    "\n",
    "hit_events = {\n",
    "    \"nonevent\" : 0,\n",
    "    \"0/0\" : value_counts[t0x, t0y+1][0],\n",
    "    \"0/1\" : value_counts[t1x, t1y+1][0],\n",
    "    \"1/0\" : value_counts[t2x, t2y+1][0],\n",
    "    \"1/1\" : value_counts[t3x, t3y+1][0],\n",
    "}\n",
    "groups = {\n",
    "    \"Normal\"   : [\"nonevent\", \"0/1\", \"1/0\"],\n",
    "    \"Abnormal\" : [\"nonevent\", \"0/0\", \"1/1\"],\n",
    "}\n",
    "\n",
    "width = 0.5\n",
    "\n",
    "fig, ax = plt.subplots()\n",
    "\n",
    "\n",
    "for group in groups:\n",
    "    for idx, subtype in enumerate(groups[group]):\n",
    "        if idx==0:\n",
    "            continue\n",
    "\n",
    "        top    = hit_events[groups[group][idx]]\n",
    "        bottom = hit_events[groups[group][idx-1]]\n",
    "        height = top+bottom\n",
    "        #print(f'good to here', group, height, bottom, groups[group][idx], top)\n",
    "        this_bar = ax.bar(x=group, height=height, bottom=bottom, label=groups[group][idx])\n",
    "        ax.bar_label(this_bar, label_type='center')\n",
    "\n",
    "#for teaching purposes (pls ignore)\n",
    "\"\"\" for group in groups:\n",
    "    for idx, subtype in enumerate(groups[group]):\n",
    "        if idx==0:\n",
    "            continue\n",
    "\n",
    "        box2 = groups[group]\n",
    "\n",
    "        current_value = box2[idx]\n",
    "        previous_value = box2[idx-1]\n",
    "\n",
    "        top    = hit_events[current_value]\n",
    "        bottom = hit_events[previous_value]\n",
    "        this_bar = ax.bar(x=group, height=top-bottom, bottom=bottom, label=current_value)\n",
    "        ax.bar_label(this_bar, label_type='center') \"\"\" \n",
    "\n",
    "ax.legend()\n",
    "\n",
    "ax.set_title(\"All Hits\")\n",
    "ax.set_ylabel(\"Hit Count\")\n",
    "\n",
    "plt.tight_layout()\n",
    "plt.show()\n"
   ]
  }
 ],
 "metadata": {
  "kernelspec": {
   "display_name": "Python 3",
   "language": "python",
   "name": "python3"
  },
  "language_info": {
   "codemirror_mode": {
    "name": "ipython",
    "version": 3
   },
   "file_extension": ".py",
   "mimetype": "text/x-python",
   "name": "python",
   "nbconvert_exporter": "python",
   "pygments_lexer": "ipython3",
   "version": "3.11.9"
  }
 },
 "nbformat": 4,
 "nbformat_minor": 5
}
