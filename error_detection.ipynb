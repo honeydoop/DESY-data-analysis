{
 "cells": [
  {
   "cell_type": "markdown",
   "id": "c23d66ab",
   "metadata": {},
   "source": [
    "## Error Detection"
   ]
  },
  {
   "cell_type": "markdown",
   "id": "080cabbf",
   "metadata": {},
   "source": [
    "### Importing"
   ]
  },
  {
   "cell_type": "code",
   "execution_count": null,
   "id": "b8587dd2",
   "metadata": {},
   "outputs": [],
   "source": [
    "import polars as pl"
   ]
  },
  {
   "cell_type": "markdown",
   "id": "5360c8e1",
   "metadata": {},
   "source": [
    "### Data File"
   ]
  },
  {
   "cell_type": "code",
   "execution_count": null,
   "id": "182b1d5b",
   "metadata": {},
   "outputs": [],
   "source": [
    "df = pl.read_csv(\n",
    "    \"pico_data.csv\",\n",
    "    schema_overrides={\n",
    "        \"trigger_data\": pl.UInt32,\n",
    "        \"trigger_clk\": pl.UInt64,\n",
    "        \"trigger_id\": pl.UInt16,\n",
    "        \"veto_in\": pl.Boolean,\n",
    "        \"internal_trigger\": pl.Boolean,\n",
    "    }\n",
    ")\n",
    "print(df)"
   ]
  },
  {
   "cell_type": "markdown",
   "id": "ae906df8",
   "metadata": {},
   "source": [
    "### Time Conversion"
   ]
  },
  {
   "cell_type": "code",
   "execution_count": null,
   "id": "bf266aa3",
   "metadata": {},
   "outputs": [],
   "source": [
    "df = df.with_columns(\n",
    "    (pl.col(\"trigger_clk\") / 40000000).alias(\"trigger_clk\")\n",
    ")"
   ]
  },
  {
   "cell_type": "markdown",
   "id": "9b574bbb",
   "metadata": {},
   "source": [
    "#### Printing DataFrame"
   ]
  },
  {
   "cell_type": "code",
   "execution_count": null,
   "id": "c23a7332",
   "metadata": {},
   "outputs": [],
   "source": [
    "print(df)"
   ]
  },
  {
   "cell_type": "markdown",
   "id": "10a889a0",
   "metadata": {},
   "source": [
    "### Trigger Data Errors"
   ]
  },
  {
   "cell_type": "code",
   "execution_count": null,
   "id": "33d677fc",
   "metadata": {},
   "outputs": [],
   "source": [
    "td_df = df.with_columns(\n",
    "    pl.col(\"trigger_data\").cast(pl.UInt32).map_elements(\n",
    "        lambda x: format(x, '032b'),\n",
    "        return_dtype=pl.String\n",
    "    ).alias(\"trigger_data_binary\")\n",
    ")\n",
    "\n",
    "for i in range(12):\n",
    "    start = 8 + i * 2\n",
    "    end = start + 2\n",
    "    td_df = td_df.with_columns(\n",
    "        td_df[\"trigger_data_binary\"].str.slice(start, 2).map_elements(\n",
    "            lambda x: int(x, 2),\n",
    "            return_dtype=pl.UInt8\n",
    "        ).alias(f\"chunk_{i}\")\n",
    "    )\n",
    "\n",
    "td_df = td_df.filter(\n",
    "    pl.struct(td_df.columns).map_elements(lambda row: 0 not in row and 3 not in row)\n",
    ")\n",
    "    \n",
    "td_df = td_df.drop(\"trigger_data_binary\").drop(\"trigger_data\")\n",
    "\n",
    "msb_df = td_df.select(\n",
    "    [f\"chunk_{i}\" for i in range(6)]\n",
    ")\n",
    "\n",
    "lsb_df = td_df.select(\n",
    "    [f\"chunk_{i}\" for i in range(6, 12)]\n",
    ")"
   ]
  },
  {
   "cell_type": "markdown",
   "id": "7d895dcc",
   "metadata": {},
   "source": [
    "#### Printing DataFrames"
   ]
  },
  {
   "cell_type": "code",
   "execution_count": null,
   "id": "e823decd",
   "metadata": {},
   "outputs": [],
   "source": [
    "print(msb_df)\n",
    "print(lsb_df)"
   ]
  },
  {
   "cell_type": "markdown",
   "id": "0f7cd6eb",
   "metadata": {},
   "source": [
    "### Veto In Errors"
   ]
  },
  {
   "cell_type": "code",
   "execution_count": null,
   "id": "5e8b4406",
   "metadata": {},
   "outputs": [],
   "source": [
    "vi_df = df.filter(pl.col(\"veto_in\") == True)"
   ]
  },
  {
   "cell_type": "markdown",
   "id": "396e0a1d",
   "metadata": {},
   "source": [
    "#### Printing DataFrames"
   ]
  },
  {
   "cell_type": "code",
   "execution_count": null,
   "id": "d1a41864",
   "metadata": {},
   "outputs": [],
   "source": [
    "print(vi_df)"
   ]
  },
  {
   "cell_type": "markdown",
   "id": "92c2150b",
   "metadata": {},
   "source": [
    "### Internal Trigger Errors"
   ]
  },
  {
   "cell_type": "code",
   "execution_count": null,
   "id": "9c8ac21e",
   "metadata": {},
   "outputs": [],
   "source": [
    "it_df = df.filter(pl.col(\"internal_trigger\") == True)"
   ]
  },
  {
   "cell_type": "markdown",
   "id": "24cef2ee",
   "metadata": {},
   "source": [
    "#### Printing DataFrames"
   ]
  },
  {
   "cell_type": "code",
   "execution_count": null,
   "id": "e4608ee4",
   "metadata": {},
   "outputs": [],
   "source": [
    "print(it_df)"
   ]
  },
  {
   "cell_type": "markdown",
   "id": "36f3d337",
   "metadata": {},
   "source": [
    "## Plotting"
   ]
  },
  {
   "cell_type": "code",
   "execution_count": null,
   "id": "992e7362",
   "metadata": {},
   "outputs": [],
   "source": [
    "'''\n",
    "-x = clk, y = faulty ids (tells us if there is an interval which issues happen)\n",
    "-heat map (graph that changes color when get 0 or 2)\n",
    "-3d gaussian distribution x = , y = , z = (tells us)\n",
    "'''"
   ]
  },
  {
   "cell_type": "markdown",
   "id": "2d2f1897",
   "metadata": {},
   "source": [
    "### Faulty Rods at Intervals"
   ]
  },
  {
   "cell_type": "code",
   "execution_count": null,
   "id": "6753ec5e",
   "metadata": {},
   "outputs": [],
   "source": []
  },
  {
   "cell_type": "markdown",
   "id": "43ec3e7f",
   "metadata": {},
   "source": [
    "### Heat Map"
   ]
  },
  {
   "cell_type": "code",
   "execution_count": null,
   "id": "7a28ed2c",
   "metadata": {},
   "outputs": [],
   "source": []
  },
  {
   "cell_type": "markdown",
   "id": "ed24797c",
   "metadata": {},
   "source": [
    "### Gaussian Distribution"
   ]
  },
  {
   "cell_type": "code",
   "execution_count": null,
   "id": "1d0eca4d",
   "metadata": {},
   "outputs": [],
   "source": []
  }
 ],
 "metadata": {
  "kernelspec": {
   "display_name": "Python 3",
   "language": "python",
   "name": "python3"
  },
  "language_info": {
   "codemirror_mode": {
    "name": "ipython",
    "version": 3
   },
   "file_extension": ".py",
   "mimetype": "text/x-python",
   "name": "python",
   "nbconvert_exporter": "python",
   "pygments_lexer": "ipython3",
   "version": "3.11.9"
  }
 },
 "nbformat": 4,
 "nbformat_minor": 5
}
