{
 "cells": [
  {
   "cell_type": "markdown",
   "id": "c23d66ab",
   "metadata": {},
   "source": [
    "## Error Detection"
   ]
  },
  {
   "cell_type": "markdown",
   "id": "080cabbf",
   "metadata": {},
   "source": [
    "### Importing"
   ]
  },
  {
   "cell_type": "code",
   "execution_count": 18,
   "id": "b8587dd2",
   "metadata": {},
   "outputs": [],
   "source": [
    "import polars as pl\n",
    "import pandas as pd\n",
    "import matplotlib.pyplot as plt"
   ]
  },
  {
   "cell_type": "markdown",
   "id": "5360c8e1",
   "metadata": {},
   "source": [
    "### Data File"
   ]
  },
  {
   "cell_type": "code",
   "execution_count": 19,
   "id": "182b1d5b",
   "metadata": {},
   "outputs": [
    {
     "name": "stdout",
     "output_type": "stream",
     "text": [
      "shape: (1_000_000, 5)\n",
      "┌──────────────┬──────────────────────┬────────────┬─────────┬──────────────────┐\n",
      "│ trigger_data ┆ trigger_clk          ┆ trigger_id ┆ veto_in ┆ internal_trigger │\n",
      "│ ---          ┆ ---                  ┆ ---        ┆ ---     ┆ ---              │\n",
      "│ u32          ┆ u64                  ┆ u16        ┆ bool    ┆ bool             │\n",
      "╞══════════════╪══════════════════════╪════════════╪═════════╪══════════════════╡\n",
      "│ 2387946004   ┆ 5129295877036350564  ┆ 36744      ┆ false   ┆ false            │\n",
      "│ 3705039394   ┆ 5896637771063441370  ┆ 31836      ┆ false   ┆ false            │\n",
      "│ 4135854240   ┆ 15909143681047300436 ┆ 37080      ┆ false   ┆ false            │\n",
      "│ 2966489412   ┆ 4283887664210683987  ┆ 18203      ┆ true    ┆ false            │\n",
      "│ 1369896137   ┆ 18412677095183464827 ┆ 49083      ┆ false   ┆ false            │\n",
      "│ …            ┆ …                    ┆ …          ┆ …       ┆ …                │\n",
      "│ 3460009179   ┆ 18090895291116405222 ┆ 49575      ┆ false   ┆ true             │\n",
      "│ 1328686175   ┆ 7373223464211885792  ┆ 1575       ┆ true    ┆ false            │\n",
      "│ 3564652371   ┆ 16727430199125689917 ┆ 30724      ┆ true    ┆ false            │\n",
      "│ 3514372884   ┆ 10747112514043709730 ┆ 49317      ┆ true    ┆ true             │\n",
      "│ 3888110207   ┆ 4489275094697909700  ┆ 57192      ┆ true    ┆ false            │\n",
      "└──────────────┴──────────────────────┴────────────┴─────────┴──────────────────┘\n"
     ]
    }
   ],
   "source": [
    "df = pl.read_csv(\n",
    "    \"example_trigger_data_large.csv\",\n",
    "    schema_overrides={\n",
    "        \"trigger_data\": pl.UInt32,\n",
    "        \"trigger_clk\": pl.UInt64,\n",
    "        \"trigger_id\": pl.UInt16,\n",
    "        \"veto_in\": pl.Boolean,\n",
    "        \"internal_trigger\": pl.Boolean,\n",
    "    }\n",
    ")\n",
    "print(df)"
   ]
  },
  {
   "cell_type": "markdown",
   "id": "ae906df8",
   "metadata": {},
   "source": [
    "### Time Conversion"
   ]
  },
  {
   "cell_type": "code",
   "execution_count": 20,
   "id": "bf266aa3",
   "metadata": {},
   "outputs": [],
   "source": [
    "df = df.with_columns(\n",
    "    (pl.col(\"trigger_clk\") / 40000000).alias(\"trigger_clk\")\n",
    ")"
   ]
  },
  {
   "cell_type": "markdown",
   "id": "9b574bbb",
   "metadata": {},
   "source": [
    "#### Printing DataFrame"
   ]
  },
  {
   "cell_type": "code",
   "execution_count": 21,
   "id": "c23a7332",
   "metadata": {},
   "outputs": [
    {
     "name": "stdout",
     "output_type": "stream",
     "text": [
      "shape: (1_000_000, 5)\n",
      "┌──────────────┬─────────────┬────────────┬─────────┬──────────────────┐\n",
      "│ trigger_data ┆ trigger_clk ┆ trigger_id ┆ veto_in ┆ internal_trigger │\n",
      "│ ---          ┆ ---         ┆ ---        ┆ ---     ┆ ---              │\n",
      "│ u32          ┆ f64         ┆ u16        ┆ bool    ┆ bool             │\n",
      "╞══════════════╪═════════════╪════════════╪═════════╪══════════════════╡\n",
      "│ 2387946004   ┆ 1.2823e11   ┆ 36744      ┆ false   ┆ false            │\n",
      "│ 3705039394   ┆ 1.4742e11   ┆ 31836      ┆ false   ┆ false            │\n",
      "│ 4135854240   ┆ 3.9773e11   ┆ 37080      ┆ false   ┆ false            │\n",
      "│ 2966489412   ┆ 1.0710e11   ┆ 18203      ┆ true    ┆ false            │\n",
      "│ 1369896137   ┆ 4.6032e11   ┆ 49083      ┆ false   ┆ false            │\n",
      "│ …            ┆ …           ┆ …          ┆ …       ┆ …                │\n",
      "│ 3460009179   ┆ 4.5227e11   ┆ 49575      ┆ false   ┆ true             │\n",
      "│ 1328686175   ┆ 1.8433e11   ┆ 1575       ┆ true    ┆ false            │\n",
      "│ 3564652371   ┆ 4.1819e11   ┆ 30724      ┆ true    ┆ false            │\n",
      "│ 3514372884   ┆ 2.6868e11   ┆ 49317      ┆ true    ┆ true             │\n",
      "│ 3888110207   ┆ 1.1223e11   ┆ 57192      ┆ true    ┆ false            │\n",
      "└──────────────┴─────────────┴────────────┴─────────┴──────────────────┘\n"
     ]
    }
   ],
   "source": [
    "print(df)"
   ]
  },
  {
   "cell_type": "markdown",
   "id": "10a889a0",
   "metadata": {},
   "source": [
    "### Trigger Data Errors"
   ]
  },
  {
   "cell_type": "code",
   "execution_count": 22,
   "id": "33d677fc",
   "metadata": {},
   "outputs": [],
   "source": [
    "td_df = df.with_columns(\n",
    "    pl.col(\"trigger_data\").cast(pl.UInt32).map_elements(\n",
    "        lambda x: format(x, '032b'),\n",
    "        return_dtype=pl.String\n",
    "    ).alias(\"trigger_data_binary\")\n",
    ")\n",
    "\n",
    "for i in range(12):\n",
    "    start = 8 + i * 2\n",
    "    end = start + 2\n",
    "    td_df = td_df.with_columns(\n",
    "        td_df[\"trigger_data_binary\"].str.slice(start, 2).map_elements(\n",
    "            lambda x: int(x, 2),\n",
    "            return_dtype=pl.UInt8\n",
    "        ).alias(f\"chunk_{i}\")\n",
    "    )\n",
    "\n",
    "td_df = td_df.filter(\n",
    "    pl.struct(td_df.columns).map_elements(lambda row: 0 not in row and 3 not in row)\n",
    ")\n",
    "    \n",
    "td_df = td_df.drop(\"trigger_data_binary\").drop(\"trigger_data\")\n",
    "\n",
    "msb_df = td_df.select(\n",
    "    [f\"chunk_{i}\" for i in range(6)]\n",
    ")\n",
    "\n",
    "lsb_df = td_df.select(\n",
    "    [f\"chunk_{i}\" for i in range(6, 12)]\n",
    ")"
   ]
  },
  {
   "cell_type": "markdown",
   "id": "7d895dcc",
   "metadata": {},
   "source": [
    "#### Printing DataFrames"
   ]
  },
  {
   "cell_type": "code",
   "execution_count": 23,
   "id": "e823decd",
   "metadata": {},
   "outputs": [
    {
     "name": "stdout",
     "output_type": "stream",
     "text": [
      "shape: (1_000_000, 6)\n",
      "┌─────────┬─────────┬─────────┬─────────┬─────────┬─────────┐\n",
      "│ chunk_0 ┆ chunk_1 ┆ chunk_2 ┆ chunk_3 ┆ chunk_4 ┆ chunk_5 │\n",
      "│ ---     ┆ ---     ┆ ---     ┆ ---     ┆ ---     ┆ ---     │\n",
      "│ u8      ┆ u8      ┆ u8      ┆ u8      ┆ u8      ┆ u8      │\n",
      "╞═════════╪═════════╪═════════╪═════════╪═════════╪═════════╡\n",
      "│ 1       ┆ 1       ┆ 1       ┆ 1       ┆ 0       ┆ 2       │\n",
      "│ 3       ┆ 1       ┆ 1       ┆ 2       ┆ 1       ┆ 2       │\n",
      "│ 2       ┆ 0       ┆ 1       ┆ 0       ┆ 0       ┆ 2       │\n",
      "│ 3       ┆ 1       ┆ 0       ┆ 1       ┆ 0       ┆ 0       │\n",
      "│ 2       ┆ 2       ┆ 1       ┆ 2       ┆ 3       ┆ 3       │\n",
      "│ …       ┆ …       ┆ …       ┆ …       ┆ …       ┆ …       │\n",
      "│ 0       ┆ 3       ┆ 2       ┆ 3       ┆ 2       ┆ 0       │\n",
      "│ 0       ┆ 3       ┆ 0       ┆ 2       ┆ 0       ┆ 2       │\n",
      "│ 1       ┆ 3       ┆ 2       ┆ 0       ┆ 1       ┆ 0       │\n",
      "│ 1       ┆ 3       ┆ 2       ┆ 1       ┆ 0       ┆ 1       │\n",
      "│ 2       ┆ 3       ┆ 3       ┆ 3       ┆ 3       ┆ 1       │\n",
      "└─────────┴─────────┴─────────┴─────────┴─────────┴─────────┘\n"
     ]
    }
   ],
   "source": [
    "print(msb_df)"
   ]
  },
  {
   "cell_type": "code",
   "execution_count": 24,
   "id": "ef937d1d",
   "metadata": {},
   "outputs": [
    {
     "name": "stdout",
     "output_type": "stream",
     "text": [
      "shape: (1_000_000, 6)\n",
      "┌─────────┬─────────┬─────────┬─────────┬──────────┬──────────┐\n",
      "│ chunk_6 ┆ chunk_7 ┆ chunk_8 ┆ chunk_9 ┆ chunk_10 ┆ chunk_11 │\n",
      "│ ---     ┆ ---     ┆ ---     ┆ ---     ┆ ---      ┆ ---      │\n",
      "│ u8      ┆ u8      ┆ u8      ┆ u8      ┆ u8       ┆ u8       │\n",
      "╞═════════╪═════════╪═════════╪═════════╪══════════╪══════════╡\n",
      "│ 2       ┆ 2       ┆ 0       ┆ 1       ┆ 1        ┆ 0        │\n",
      "│ 2       ┆ 2       ┆ 0       ┆ 2       ┆ 0        ┆ 2        │\n",
      "│ 0       ┆ 0       ┆ 2       ┆ 2       ┆ 0        ┆ 0        │\n",
      "│ 2       ┆ 1       ┆ 1       ┆ 0       ┆ 1        ┆ 0        │\n",
      "│ 1       ┆ 0       ┆ 3       ┆ 0       ┆ 2        ┆ 1        │\n",
      "│ …       ┆ …       ┆ …       ┆ …       ┆ …        ┆ …        │\n",
      "│ 3       ┆ 0       ┆ 3       ┆ 1       ┆ 2        ┆ 3        │\n",
      "│ 1       ┆ 0       ┆ 1       ┆ 1       ┆ 3        ┆ 3        │\n",
      "│ 1       ┆ 3       ┆ 1       ┆ 1       ┆ 0        ┆ 3        │\n",
      "│ 0       ┆ 3       ┆ 0       ┆ 1       ┆ 1        ┆ 0        │\n",
      "│ 2       ┆ 2       ┆ 1       ┆ 3       ┆ 3        ┆ 3        │\n",
      "└─────────┴─────────┴─────────┴─────────┴──────────┴──────────┘\n"
     ]
    }
   ],
   "source": [
    "print(lsb_df)"
   ]
  },
  {
   "cell_type": "markdown",
   "id": "0f7cd6eb",
   "metadata": {},
   "source": [
    "### Veto In Errors"
   ]
  },
  {
   "cell_type": "code",
   "execution_count": 25,
   "id": "5e8b4406",
   "metadata": {},
   "outputs": [],
   "source": [
    "vi_df = df.filter(pl.col(\"veto_in\") == True)"
   ]
  },
  {
   "cell_type": "markdown",
   "id": "396e0a1d",
   "metadata": {},
   "source": [
    "#### Printing DataFrames"
   ]
  },
  {
   "cell_type": "code",
   "execution_count": 26,
   "id": "d1a41864",
   "metadata": {},
   "outputs": [
    {
     "name": "stdout",
     "output_type": "stream",
     "text": [
      "shape: (499_746, 5)\n",
      "┌──────────────┬─────────────┬────────────┬─────────┬──────────────────┐\n",
      "│ trigger_data ┆ trigger_clk ┆ trigger_id ┆ veto_in ┆ internal_trigger │\n",
      "│ ---          ┆ ---         ┆ ---        ┆ ---     ┆ ---              │\n",
      "│ u32          ┆ f64         ┆ u16        ┆ bool    ┆ bool             │\n",
      "╞══════════════╪═════════════╪════════════╪═════════╪══════════════════╡\n",
      "│ 2966489412   ┆ 1.0710e11   ┆ 18203      ┆ true    ┆ false            │\n",
      "│ 2379684554   ┆ 5.6787e10   ┆ 26210      ┆ true    ┆ true             │\n",
      "│ 1345569140   ┆ 1.6859e11   ┆ 13171      ┆ true    ┆ false            │\n",
      "│ 2598166348   ┆ 3.4165e10   ┆ 2082       ┆ true    ┆ true             │\n",
      "│ 1068335650   ┆ 9.9311e10   ┆ 45718      ┆ true    ┆ true             │\n",
      "│ …            ┆ …           ┆ …          ┆ …       ┆ …                │\n",
      "│ 2423129721   ┆ 2.0816e10   ┆ 19562      ┆ true    ┆ false            │\n",
      "│ 1328686175   ┆ 1.8433e11   ┆ 1575       ┆ true    ┆ false            │\n",
      "│ 3564652371   ┆ 4.1819e11   ┆ 30724      ┆ true    ┆ false            │\n",
      "│ 3514372884   ┆ 2.6868e11   ┆ 49317      ┆ true    ┆ true             │\n",
      "│ 3888110207   ┆ 1.1223e11   ┆ 57192      ┆ true    ┆ false            │\n",
      "└──────────────┴─────────────┴────────────┴─────────┴──────────────────┘\n"
     ]
    }
   ],
   "source": [
    "print(vi_df)"
   ]
  },
  {
   "cell_type": "markdown",
   "id": "92c2150b",
   "metadata": {},
   "source": [
    "### Internal Trigger Errors"
   ]
  },
  {
   "cell_type": "code",
   "execution_count": 27,
   "id": "9c8ac21e",
   "metadata": {},
   "outputs": [],
   "source": [
    "it_df = df.filter(pl.col(\"internal_trigger\") == True)"
   ]
  },
  {
   "cell_type": "markdown",
   "id": "24cef2ee",
   "metadata": {},
   "source": [
    "#### Printing DataFrames"
   ]
  },
  {
   "cell_type": "code",
   "execution_count": 28,
   "id": "e4608ee4",
   "metadata": {},
   "outputs": [
    {
     "name": "stdout",
     "output_type": "stream",
     "text": [
      "shape: (500_995, 5)\n",
      "┌──────────────┬─────────────┬────────────┬─────────┬──────────────────┐\n",
      "│ trigger_data ┆ trigger_clk ┆ trigger_id ┆ veto_in ┆ internal_trigger │\n",
      "│ ---          ┆ ---         ┆ ---        ┆ ---     ┆ ---              │\n",
      "│ u32          ┆ f64         ┆ u16        ┆ bool    ┆ bool             │\n",
      "╞══════════════╪═════════════╪════════════╪═════════╪══════════════════╡\n",
      "│ 2379684554   ┆ 5.6787e10   ┆ 26210      ┆ true    ┆ true             │\n",
      "│ 1832620821   ┆ 5.2879e10   ┆ 56027      ┆ false   ┆ true             │\n",
      "│ 151272243    ┆ 1.9475e11   ┆ 56791      ┆ false   ┆ true             │\n",
      "│ 2598166348   ┆ 3.4165e10   ┆ 2082       ┆ true    ┆ true             │\n",
      "│ 1068335650   ┆ 9.9311e10   ┆ 45718      ┆ true    ┆ true             │\n",
      "│ …            ┆ …           ┆ …          ┆ …       ┆ …                │\n",
      "│ 2976640140   ┆ 2.4010e11   ┆ 20350      ┆ true    ┆ true             │\n",
      "│ 1611905553   ┆ 4.5765e11   ┆ 58231      ┆ false   ┆ true             │\n",
      "│ 1060942953   ┆ 3.7210e11   ┆ 3595       ┆ true    ┆ true             │\n",
      "│ 3460009179   ┆ 4.5227e11   ┆ 49575      ┆ false   ┆ true             │\n",
      "│ 3514372884   ┆ 2.6868e11   ┆ 49317      ┆ true    ┆ true             │\n",
      "└──────────────┴─────────────┴────────────┴─────────┴──────────────────┘\n"
     ]
    }
   ],
   "source": [
    "print(it_df)"
   ]
  },
  {
   "cell_type": "markdown",
   "id": "36f3d337",
   "metadata": {},
   "source": [
    "## Plotting"
   ]
  },
  {
   "cell_type": "code",
   "execution_count": 29,
   "id": "992e7362",
   "metadata": {},
   "outputs": [
    {
     "data": {
      "text/plain": [
       "'\\n-x = clk, y = faulty ids (tells us if there is an interval which issues happen)\\n-heat map (graph that changes color when get 0 or 2)\\n-3d gaussian distribution x = , y = , z = (tells us)\\n'"
      ]
     },
     "execution_count": 29,
     "metadata": {},
     "output_type": "execute_result"
    }
   ],
   "source": [
    "'''\n",
    "-x = clk, y = faulty ids (tells us if there is an interval which issues happen)\n",
    "-heat map (graph that changes color when get 0 or 2)\n",
    "-3d gaussian distribution x = , y = , z = (tells us)\n",
    "'''"
   ]
  },
  {
   "cell_type": "markdown",
   "id": "2d2f1897",
   "metadata": {},
   "source": [
    "### Faulty Rods at Intervals"
   ]
  },
  {
   "cell_type": "code",
   "execution_count": null,
   "id": "6753ec5e",
   "metadata": {},
   "outputs": [],
   "source": []
  },
  {
   "cell_type": "markdown",
   "id": "43ec3e7f",
   "metadata": {},
   "source": [
    "### Heat Map"
   ]
  },
  {
   "cell_type": "code",
   "execution_count": 30,
   "id": "7a28ed2c",
   "metadata": {},
   "outputs": [
    {
     "ename": "NameError",
     "evalue": "name 'px' is not defined",
     "output_type": "error",
     "traceback": [
      "\u001b[1;31m---------------------------------------------------------------------------\u001b[0m",
      "\u001b[1;31mNameError\u001b[0m                                 Traceback (most recent call last)",
      "Cell \u001b[1;32mIn[30], line 7\u001b[0m\n\u001b[0;32m      4\u001b[0m x_labels \u001b[38;5;241m=\u001b[39m hit_count\n\u001b[0;32m      5\u001b[0m y_labels \u001b[38;5;241m=\u001b[39m [\u001b[38;5;124m\"\u001b[39m\u001b[38;5;124m0/1\u001b[39m\u001b[38;5;124m\"\u001b[39m,\u001b[38;5;124m\"\u001b[39m\u001b[38;5;124m2/3\u001b[39m\u001b[38;5;124m\"\u001b[39m, \u001b[38;5;124m\"\u001b[39m\u001b[38;5;124m4/5\u001b[39m\u001b[38;5;124m\"\u001b[39m, \u001b[38;5;124m\"\u001b[39m\u001b[38;5;124m6/7\u001b[39m\u001b[38;5;124m\"\u001b[39m, \u001b[38;5;124m\"\u001b[39m\u001b[38;5;124m8/9\u001b[39m\u001b[38;5;124m\"\u001b[39m,\u001b[38;5;124m\"\u001b[39m\u001b[38;5;124m10/11\u001b[39m\u001b[38;5;124m\"\u001b[39m, \u001b[38;5;124m\"\u001b[39m\u001b[38;5;124m12/13\u001b[39m\u001b[38;5;124m\"\u001b[39m, \u001b[38;5;124m\"\u001b[39m\u001b[38;5;124m14/15\u001b[39m\u001b[38;5;124m\"\u001b[39m,\n\u001b[0;32m      6\u001b[0m             \u001b[38;5;124m\"\u001b[39m\u001b[38;5;124m16/17\u001b[39m\u001b[38;5;124m\"\u001b[39m, \u001b[38;5;124m\"\u001b[39m\u001b[38;5;124m18/19\u001b[39m\u001b[38;5;124m\"\u001b[39m, \u001b[38;5;124m\"\u001b[39m\u001b[38;5;124m20/21\u001b[39m\u001b[38;5;124m\"\u001b[39m, \u001b[38;5;124m\"\u001b[39m\u001b[38;5;124m22/23\u001b[39m\u001b[38;5;124m\"\u001b[39m]\n\u001b[1;32m----> 7\u001b[0m fig \u001b[38;5;241m=\u001b[39m \u001b[43mpx\u001b[49m\u001b[38;5;241m.\u001b[39mimshow(data,\n\u001b[0;32m      8\u001b[0m                 labels \u001b[38;5;241m=\u001b[39m \u001b[38;5;28mdict\u001b[39m(x \u001b[38;5;241m=\u001b[39m \u001b[38;5;124m\"\u001b[39m\u001b[38;5;124mHits\u001b[39m\u001b[38;5;124m\"\u001b[39m, y \u001b[38;5;241m=\u001b[39m \u001b[38;5;124m\"\u001b[39m\u001b[38;5;124mChannels\u001b[39m\u001b[38;5;124m\"\u001b[39m), color \u001b[38;5;241m=\u001b[39m \u001b[38;5;124m\"\u001b[39m\u001b[38;5;124mviridis\u001b[39m\u001b[38;5;124m\"\u001b[39m,),\n\u001b[0;32m      9\u001b[0m x \u001b[38;5;241m=\u001b[39mx_labels, y \u001b[38;5;241m=\u001b[39m y_labels \u001b[38;5;66;03m# what is data supposed to be?\u001b[39;00m\n\u001b[0;32m     11\u001b[0m fig\u001b[38;5;241m.\u001b[39mupdate_xaxes(side\u001b[38;5;241m=\u001b[39m\u001b[38;5;124m\"\u001b[39m\u001b[38;5;124mbottom\u001b[39m\u001b[38;5;124m\"\u001b[39m) \u001b[38;5;66;03m#not sure that it's called bottom, could be called bot\u001b[39;00m\n",
      "\u001b[1;31mNameError\u001b[0m: name 'px' is not defined"
     ]
    }
   ],
   "source": [
    "data = pd.read_csv (\"example_trigger_data_large.csv\")\n",
    "\n",
    "hit_count = df[\"trigger_clk\"]\n",
    "x_labels = hit_count\n",
    "y_labels = [\"0/1\",\"2/3\", \"4/5\", \"6/7\", \"8/9\",\"10/11\", \"12/13\", \"14/15\",\n",
    "            \"16/17\", \"18/19\", \"20/21\", \"22/23\"]\n",
    "fig = px.imshow(data,\n",
    "                labels = dict(x = \"Hits\", y = \"Channels\"), color = \"viridis\",),\n",
    "x =x_labels, y = y_labels # what is data supposed to be?\n",
    "\n",
    "fig.update_xaxes(side=\"bottom\") #not sure that it's called bottom, could be called bot\n",
    "fig.show()"
   ]
  },
  {
   "cell_type": "markdown",
   "id": "ed24797c",
   "metadata": {},
   "source": [
    "### Gaussian Distribution"
   ]
  },
  {
   "cell_type": "code",
   "execution_count": null,
   "id": "1d0eca4d",
   "metadata": {},
   "outputs": [],
   "source": []
  }
 ],
 "metadata": {
  "kernelspec": {
   "display_name": "Python 3",
   "language": "python",
   "name": "python3"
  },
  "language_info": {
   "codemirror_mode": {
    "name": "ipython",
    "version": 3
   },
   "file_extension": ".py",
   "mimetype": "text/x-python",
   "name": "python",
   "nbconvert_exporter": "python",
   "pygments_lexer": "ipython3",
   "version": "3.11.9"
  }
 },
 "nbformat": 4,
 "nbformat_minor": 5
}
